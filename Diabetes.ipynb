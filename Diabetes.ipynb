{
  "nbformat": 4,
  "nbformat_minor": 0,
  "metadata": {
    "colab": {
      "name": "Diabetes.ipynb",
      "provenance": []
    },
    "kernelspec": {
      "name": "python3",
      "display_name": "Python 3"
    }
  },
  "cells": [
    {
      "cell_type": "code",
      "metadata": {
        "id": "cPHDZoRmpmYO"
      },
      "source": [
        "import pandas as pd\r\n",
        "import numpy as np\r\n",
        "from sklearn.model_selection import train_test_split \r\n",
        "from sklearn.neighbors import KNeighborsClassifier \r\n",
        "from scipy.stats import mode \r\n",
        "from sklearn.preprocessing import StandardScaler"
      ],
      "execution_count": 80,
      "outputs": []
    },
    {
      "cell_type": "code",
      "metadata": {
        "id": "OXr_3tTVuVKh"
      },
      "source": [
        "df = pd.read_csv('/content/Diabetes Database.csv')\r\n",
        "#df.mean()"
      ],
      "execution_count": 81,
      "outputs": []
    },
    {
      "cell_type": "code",
      "metadata": {
        "colab": {
          "base_uri": "https://localhost:8080/",
          "height": 325
        },
        "id": "aMuQCvGIrap2",
        "outputId": "156e21eb-4c1e-4fbd-8c50-85303766c704"
      },
      "source": [
        "df.describe().T"
      ],
      "execution_count": 82,
      "outputs": [
        {
          "output_type": "execute_result",
          "data": {
            "text/html": [
              "<div>\n",
              "<style scoped>\n",
              "    .dataframe tbody tr th:only-of-type {\n",
              "        vertical-align: middle;\n",
              "    }\n",
              "\n",
              "    .dataframe tbody tr th {\n",
              "        vertical-align: top;\n",
              "    }\n",
              "\n",
              "    .dataframe thead th {\n",
              "        text-align: right;\n",
              "    }\n",
              "</style>\n",
              "<table border=\"1\" class=\"dataframe\">\n",
              "  <thead>\n",
              "    <tr style=\"text-align: right;\">\n",
              "      <th></th>\n",
              "      <th>count</th>\n",
              "      <th>mean</th>\n",
              "      <th>std</th>\n",
              "      <th>min</th>\n",
              "      <th>25%</th>\n",
              "      <th>50%</th>\n",
              "      <th>75%</th>\n",
              "      <th>max</th>\n",
              "    </tr>\n",
              "  </thead>\n",
              "  <tbody>\n",
              "    <tr>\n",
              "      <th>Pregnancies</th>\n",
              "      <td>768.0</td>\n",
              "      <td>3.845052</td>\n",
              "      <td>3.369578</td>\n",
              "      <td>0.000</td>\n",
              "      <td>1.00000</td>\n",
              "      <td>3.0000</td>\n",
              "      <td>6.00000</td>\n",
              "      <td>17.00</td>\n",
              "    </tr>\n",
              "    <tr>\n",
              "      <th>Glucose</th>\n",
              "      <td>768.0</td>\n",
              "      <td>120.894531</td>\n",
              "      <td>31.972618</td>\n",
              "      <td>0.000</td>\n",
              "      <td>99.00000</td>\n",
              "      <td>117.0000</td>\n",
              "      <td>140.25000</td>\n",
              "      <td>199.00</td>\n",
              "    </tr>\n",
              "    <tr>\n",
              "      <th>BloodPressure</th>\n",
              "      <td>768.0</td>\n",
              "      <td>69.105469</td>\n",
              "      <td>19.355807</td>\n",
              "      <td>0.000</td>\n",
              "      <td>62.00000</td>\n",
              "      <td>72.0000</td>\n",
              "      <td>80.00000</td>\n",
              "      <td>122.00</td>\n",
              "    </tr>\n",
              "    <tr>\n",
              "      <th>SkinThickness</th>\n",
              "      <td>768.0</td>\n",
              "      <td>20.536458</td>\n",
              "      <td>15.952218</td>\n",
              "      <td>0.000</td>\n",
              "      <td>0.00000</td>\n",
              "      <td>23.0000</td>\n",
              "      <td>32.00000</td>\n",
              "      <td>99.00</td>\n",
              "    </tr>\n",
              "    <tr>\n",
              "      <th>Insulin</th>\n",
              "      <td>768.0</td>\n",
              "      <td>79.799479</td>\n",
              "      <td>115.244002</td>\n",
              "      <td>0.000</td>\n",
              "      <td>0.00000</td>\n",
              "      <td>30.5000</td>\n",
              "      <td>127.25000</td>\n",
              "      <td>846.00</td>\n",
              "    </tr>\n",
              "    <tr>\n",
              "      <th>BMI</th>\n",
              "      <td>768.0</td>\n",
              "      <td>31.992578</td>\n",
              "      <td>7.884160</td>\n",
              "      <td>0.000</td>\n",
              "      <td>27.30000</td>\n",
              "      <td>32.0000</td>\n",
              "      <td>36.60000</td>\n",
              "      <td>67.10</td>\n",
              "    </tr>\n",
              "    <tr>\n",
              "      <th>DiabetesPedigreeFunction</th>\n",
              "      <td>768.0</td>\n",
              "      <td>0.471876</td>\n",
              "      <td>0.331329</td>\n",
              "      <td>0.078</td>\n",
              "      <td>0.24375</td>\n",
              "      <td>0.3725</td>\n",
              "      <td>0.62625</td>\n",
              "      <td>2.42</td>\n",
              "    </tr>\n",
              "    <tr>\n",
              "      <th>Age</th>\n",
              "      <td>768.0</td>\n",
              "      <td>33.240885</td>\n",
              "      <td>11.760232</td>\n",
              "      <td>21.000</td>\n",
              "      <td>24.00000</td>\n",
              "      <td>29.0000</td>\n",
              "      <td>41.00000</td>\n",
              "      <td>81.00</td>\n",
              "    </tr>\n",
              "    <tr>\n",
              "      <th>Outcome</th>\n",
              "      <td>768.0</td>\n",
              "      <td>0.348958</td>\n",
              "      <td>0.476951</td>\n",
              "      <td>0.000</td>\n",
              "      <td>0.00000</td>\n",
              "      <td>0.0000</td>\n",
              "      <td>1.00000</td>\n",
              "      <td>1.00</td>\n",
              "    </tr>\n",
              "  </tbody>\n",
              "</table>\n",
              "</div>"
            ],
            "text/plain": [
              "                          count        mean  ...        75%     max\n",
              "Pregnancies               768.0    3.845052  ...    6.00000   17.00\n",
              "Glucose                   768.0  120.894531  ...  140.25000  199.00\n",
              "BloodPressure             768.0   69.105469  ...   80.00000  122.00\n",
              "SkinThickness             768.0   20.536458  ...   32.00000   99.00\n",
              "Insulin                   768.0   79.799479  ...  127.25000  846.00\n",
              "BMI                       768.0   31.992578  ...   36.60000   67.10\n",
              "DiabetesPedigreeFunction  768.0    0.471876  ...    0.62625    2.42\n",
              "Age                       768.0   33.240885  ...   41.00000   81.00\n",
              "Outcome                   768.0    0.348958  ...    1.00000    1.00\n",
              "\n",
              "[9 rows x 8 columns]"
            ]
          },
          "metadata": {
            "tags": []
          },
          "execution_count": 82
        }
      ]
    },
    {
      "cell_type": "code",
      "metadata": {
        "colab": {
          "base_uri": "https://localhost:8080/"
        },
        "id": "nPUaWFb78g3c",
        "outputId": "d98129f3-396f-4327-d788-e4609248cdd1"
      },
      "source": [
        "df_copy = df.copy(deep = True)\r\n",
        "df_copy[['Glucose','BloodPressure','SkinThickness','Insulin','BMI']] = df_copy[['Glucose','BloodPressure','SkinThickness','Insulin','BMI']].replace(0,np.NaN)\r\n",
        "df_copy.isnull().sum()"
      ],
      "execution_count": 83,
      "outputs": [
        {
          "output_type": "execute_result",
          "data": {
            "text/plain": [
              "Pregnancies                   0\n",
              "Glucose                       5\n",
              "BloodPressure                35\n",
              "SkinThickness               227\n",
              "Insulin                     374\n",
              "BMI                          11\n",
              "DiabetesPedigreeFunction      0\n",
              "Age                           0\n",
              "Outcome                       0\n",
              "dtype: int64"
            ]
          },
          "metadata": {
            "tags": []
          },
          "execution_count": 83
        }
      ]
    },
    {
      "cell_type": "code",
      "metadata": {
        "colab": {
          "base_uri": "https://localhost:8080/",
          "height": 855
        },
        "id": "oxQYjEkE9B0t",
        "outputId": "825a68ac-2015-405b-f7fd-805399ed5586"
      },
      "source": [
        "plot = df.hist(figsize = (25,25))"
      ],
      "execution_count": 84,
      "outputs": [
        {
          "output_type": "display_data",
          "data": {
            "image/png": "[encoded data removed]",
            "text/plain": [
              "<Figure size 1800x1800 with 9 Axes>"
            ]
          },
          "metadata": {
            "tags": [],
            "needs_background": "light"
          }
        }
      ]
    },
    {
      "cell_type": "code",
      "metadata": {
        "colab": {
          "base_uri": "https://localhost:8080/"
        },
        "id": "JvKNcnwx9bW4",
        "outputId": "78d2d493-5d8b-47f8-a1de-367d2e2fa9a5"
      },
      "source": [
        "df_copy['Glucose'].fillna(df_copy['Glucose'].median(), inplace = True)\r\n",
        "df_copy['BloodPressure'].fillna(df_copy['BloodPressure'].mean(), inplace = True)\r\n",
        "df_copy['SkinThickness'].fillna(df_copy['SkinThickness'].median(), inplace = True)\r\n",
        "df_copy['Insulin'].fillna(df_copy['Insulin'].median(), inplace = True)\r\n",
        "df_copy['BMI'].fillna(df_copy['BMI'].median(), inplace = True)\r\n",
        "df_copy.isnull().sum()"
      ],
      "execution_count": 85,
      "outputs": [
        {
          "output_type": "execute_result",
          "data": {
            "text/plain": [
              "Pregnancies                 0\n",
              "Glucose                     0\n",
              "BloodPressure               0\n",
              "SkinThickness               0\n",
              "Insulin                     0\n",
              "BMI                         0\n",
              "DiabetesPedigreeFunction    0\n",
              "Age                         0\n",
              "Outcome                     0\n",
              "dtype: int64"
            ]
          },
          "metadata": {
            "tags": []
          },
          "execution_count": 85
        }
      ]
    },
    {
      "cell_type": "code",
      "metadata": {
        "colab": {
          "base_uri": "https://localhost:8080/",
          "height": 279
        },
        "id": "QNWQt4L7CuOA",
        "outputId": "87490a8c-63fa-4cfd-c2bc-cab473005954"
      },
      "source": [
        "df.Outcome.value_counts().plot(kind=\"bar\")"
      ],
      "execution_count": 86,
      "outputs": [
        {
          "output_type": "execute_result",
          "data": {
            "text/plain": [
              "<matplotlib.axes._subplots.AxesSubplot at 0x7f47f486a990>"
            ]
          },
          "metadata": {
            "tags": []
          },
          "execution_count": 86
        },
        {
          "output_type": "display_data",
          "data": {
            "image/png": "[encoded data removed]",
            "text/plain": [
              "<Figure size 432x288 with 1 Axes>"
            ]
          },
          "metadata": {
            "tags": [],
            "needs_background": "light"
          }
        }
      ]
    },
    {
      "cell_type": "code",
      "metadata": {
        "colab": {
          "base_uri": "https://localhost:8080/",
          "height": 297
        },
        "id": "rFPlsOkHDAkF",
        "outputId": "ca39a5ca-2673-480c-e79f-75dc3b5a3daf"
      },
      "source": [
        "import matplotlib.pyplot as plt\r\n",
        "import seaborn as sns\r\n",
        "sns.boxplot(x=df[\"Pregnancies\"])"
      ],
      "execution_count": 87,
      "outputs": [
        {
          "output_type": "execute_result",
          "data": {
            "text/plain": [
              "<matplotlib.axes._subplots.AxesSubplot at 0x7f47f46cc750>"
            ]
          },
          "metadata": {
            "tags": []
          },
          "execution_count": 87
        },
        {
          "output_type": "display_data",
          "data": {
            "image/png": "[encoded data removed]",
            "text/plain": [
              "<Figure size 432x288 with 1 Axes>"
            ]
          },
          "metadata": {
            "tags": [],
            "needs_background": "light"
          }
        }
      ]
    },
    {
      "cell_type": "code",
      "metadata": {
        "colab": {
          "base_uri": "https://localhost:8080/",
          "height": 297
        },
        "id": "dd7icBqmJlb-",
        "outputId": "36d5387d-8907-4a24-ed64-cd2b45415051"
      },
      "source": [
        "sns.boxplot(x=db[\"Glucose\"])"
      ],
      "execution_count": 88,
      "outputs": [
        {
          "output_type": "execute_result",
          "data": {
            "text/plain": [
              "<matplotlib.axes._subplots.AxesSubplot at 0x7f47f46fba50>"
            ]
          },
          "metadata": {
            "tags": []
          },
          "execution_count": 88
        },
        {
          "output_type": "display_data",
          "data": {
            "image/png": "[encoded data removed]",
            "text/plain": [
              "<Figure size 432x288 with 1 Axes>"
            ]
          },
          "metadata": {
            "tags": [],
            "needs_background": "light"
          }
        }
      ]
    },
    {
      "cell_type": "code",
      "metadata": {
        "colab": {
          "base_uri": "https://localhost:8080/",
          "height": 297
        },
        "id": "csPNLULdJtEH",
        "outputId": "cbd58a26-07d4-4a2c-9adb-0ae3c74f7d34"
      },
      "source": [
        "sns.boxplot(x=df[\"BloodPressure\"])"
      ],
      "execution_count": 89,
      "outputs": [
        {
          "output_type": "execute_result",
          "data": {
            "text/plain": [
              "<matplotlib.axes._subplots.AxesSubplot at 0x7f47f4663b10>"
            ]
          },
          "metadata": {
            "tags": []
          },
          "execution_count": 89
        },
        {
          "output_type": "display_data",
          "data": {
            "image/png": "[encoded data removed]",
            "text/plain": [
              "<Figure size 432x288 with 1 Axes>"
            ]
          },
          "metadata": {
            "tags": [],
            "needs_background": "light"
          }
        }
      ]
    },
    {
      "cell_type": "code",
      "metadata": {
        "colab": {
          "base_uri": "https://localhost:8080/",
          "height": 297
        },
        "id": "a-w90uBqJtPY",
        "outputId": "bacca8e4-f8fc-4839-97ec-3493b3123c8e"
      },
      "source": [
        "sns.boxplot(x=df[\"SkinThickness\"])"
      ],
      "execution_count": 90,
      "outputs": [
        {
          "output_type": "execute_result",
          "data": {
            "text/plain": [
              "<matplotlib.axes._subplots.AxesSubplot at 0x7f47f459f950>"
            ]
          },
          "metadata": {
            "tags": []
          },
          "execution_count": 90
        },
        {
          "output_type": "display_data",
          "data": {
            "image/png": "[encoded data removed]",
            "text/plain": [
              "<Figure size 432x288 with 1 Axes>"
            ]
          },
          "metadata": {
            "tags": [],
            "needs_background": "light"
          }
        }
      ]
    },
    {
      "cell_type": "code",
      "metadata": {
        "colab": {
          "base_uri": "https://localhost:8080/",
          "height": 297
        },
        "id": "_2dSrxo8JtZ3",
        "outputId": "6995e395-01aa-4f6d-ea41-aa72fb07c4ae"
      },
      "source": [
        "sns.boxplot(x=df[\"Insulin\"])"
      ],
      "execution_count": 91,
      "outputs": [
        {
          "output_type": "execute_result",
          "data": {
            "text/plain": [
              "<matplotlib.axes._subplots.AxesSubplot at 0x7f47f4581c10>"
            ]
          },
          "metadata": {
            "tags": []
          },
          "execution_count": 91
        },
        {
          "output_type": "display_data",
          "data": {
            "image/png": "[encoded data removed]",
            "text/plain": [
              "<Figure size 432x288 with 1 Axes>"
            ]
          },
          "metadata": {
            "tags": [],
            "needs_background": "light"
          }
        }
      ]
    },
    {
      "cell_type": "code",
      "metadata": {
        "colab": {
          "base_uri": "https://localhost:8080/",
          "height": 297
        },
        "id": "AhAfW0VQJ2eP",
        "outputId": "90b9d38e-a0ec-4de1-ad52-df6eb077ed12"
      },
      "source": [
        "sns.boxplot(x=df[\"BMI\"])"
      ],
      "execution_count": 92,
      "outputs": [
        {
          "output_type": "execute_result",
          "data": {
            "text/plain": [
              "<matplotlib.axes._subplots.AxesSubplot at 0x7f47f44e04d0>"
            ]
          },
          "metadata": {
            "tags": []
          },
          "execution_count": 92
        },
        {
          "output_type": "display_data",
          "data": {
            "image/png": "[encoded data removed]",
            "text/plain": [
              "<Figure size 432x288 with 1 Axes>"
            ]
          },
          "metadata": {
            "tags": [],
            "needs_background": "light"
          }
        }
      ]
    },
    {
      "cell_type": "code",
      "metadata": {
        "colab": {
          "base_uri": "https://localhost:8080/",
          "height": 297
        },
        "id": "JBHFdcodJ5R_",
        "outputId": "8da1b238-963f-4c3b-eb1c-29ae516f6622"
      },
      "source": [
        "sns.boxplot(x=df[\"DiabetesPedigreeFunction\"])"
      ],
      "execution_count": 93,
      "outputs": [
        {
          "output_type": "execute_result",
          "data": {
            "text/plain": [
              "<matplotlib.axes._subplots.AxesSubplot at 0x7f47f449e590>"
            ]
          },
          "metadata": {
            "tags": []
          },
          "execution_count": 93
        },
        {
          "output_type": "display_data",
          "data": {
            "image/png": "[encoded data removed]",
            "text/plain": [
              "<Figure size 432x288 with 1 Axes>"
            ]
          },
          "metadata": {
            "tags": [],
            "needs_background": "light"
          }
        }
      ]
    },
    {
      "cell_type": "code",
      "metadata": {
        "colab": {
          "base_uri": "https://localhost:8080/",
          "height": 297
        },
        "id": "ylDGM1GJJ8ox",
        "outputId": "92df73ed-d6b5-4479-a8c5-b9ce9da67aea"
      },
      "source": [
        "sns.boxplot(x=df[\"Age\"])"
      ],
      "execution_count": 94,
      "outputs": [
        {
          "output_type": "execute_result",
          "data": {
            "text/plain": [
              "<matplotlib.axes._subplots.AxesSubplot at 0x7f47f443b910>"
            ]
          },
          "metadata": {
            "tags": []
          },
          "execution_count": 94
        },
        {
          "output_type": "display_data",
          "data": {
            "image/png": "[encoded data removed]",
            "text/plain": [
              "<Figure size 432x288 with 1 Axes>"
            ]
          },
          "metadata": {
            "tags": [],
            "needs_background": "light"
          }
        }
      ]
    },
    {
      "cell_type": "code",
      "metadata": {
        "colab": {
          "base_uri": "https://localhost:8080/"
        },
        "id": "tl0C5PQcKKzZ",
        "outputId": "daabc4f1-01f7-4d27-c8f2-2ce0db46f17a"
      },
      "source": [
        "Q1 = df[\"BloodPressure\"].quantile(0.25)\r\n",
        "Q3 = df[\"BloodPressure\"].quantile(0.75)\r\n",
        "IQR = Q3 - Q1\r\n",
        "df[\"BloodPressure\"] = df[\"BloodPressure\"][~((df[\"BloodPressure\"] < (Q1 - 1.5 * IQR)) |(df[\"BloodPressure\"] > (Q3 + 1.5 * IQR)))]\r\n",
        "#Removing Outliers For Insulin\r\n",
        "Q1 = df[\"Insulin\"].quantile(0.25)\r\n",
        "Q3 = df[\"Insulin\"].quantile(0.75)\r\n",
        "IQR = Q3 - Q1\r\n",
        "df[\"Insulin\"] = df[\"Insulin\"][~((df[\"Insulin\"] < (Q1 - 1.5 * IQR)) |(df[\"Insulin\"] > (Q3 + 1.5 * IQR)))]\r\n",
        "#Removing Outliers for BMI\r\n",
        "Q1 = df[\"BMI\"].quantile(0.25)\r\n",
        "Q3 = df[\"BMI\"].quantile(0.75)\r\n",
        "IQR = Q3 - Q1\r\n",
        "df[\"BMI\"] = df[\"BMI\"][~((df[\"BMI\"] < (Q1 - 1.5 * IQR)) |(df[\"BMI\"] > (Q3 + 1.5 * IQR)))]\r\n",
        "#Removing Outliers for DPF\r\n",
        "Q1 = df[\"DiabetesPedigreeFunction\"].quantile(0.25)\r\n",
        "Q3 = df[\"DiabetesPedigreeFunction\"].quantile(0.75)\r\n",
        "IQR = Q3 - Q1\r\n",
        "df[\"DiabetesPedigreeFunction\"] = df[\"DiabetesPedigreeFunction\"][~((df[\"DiabetesPedigreeFunction\"] < (Q1 - 1.5 * IQR)) |(df[\"DiabetesPedigreeFunction\"] > (Q3 + 1.5 * IQR)))]\r\n",
        "df.info(verbose=True)"
      ],
      "execution_count": 95,
      "outputs": [
        {
          "output_type": "stream",
          "text": [
            "<class 'pandas.core.frame.DataFrame'>\n",
            "RangeIndex: 768 entries, 0 to 767\n",
            "Data columns (total 9 columns):\n",
            " #   Column                    Non-Null Count  Dtype  \n",
            "---  ------                    --------------  -----  \n",
            " 0   Pregnancies               768 non-null    int64  \n",
            " 1   Glucose                   768 non-null    int64  \n",
            " 2   BloodPressure             723 non-null    float64\n",
            " 3   SkinThickness             768 non-null    int64  \n",
            " 4   Insulin                   734 non-null    float64\n",
            " 5   BMI                       749 non-null    float64\n",
            " 6   DiabetesPedigreeFunction  739 non-null    float64\n",
            " 7   Age                       768 non-null    int64  \n",
            " 8   Outcome                   768 non-null    int64  \n",
            "dtypes: float64(4), int64(5)\n",
            "memory usage: 54.1 KB\n"
          ],
          "name": "stdout"
        }
      ]
    },
    {
      "cell_type": "code",
      "metadata": {
        "colab": {
          "base_uri": "https://localhost:8080/"
        },
        "id": "ZbvBFnCkLSjg",
        "outputId": "e646b8ad-8a71-4d05-be18-ea7ed9301c49"
      },
      "source": [
        "df.dropna(subset = [\"Insulin\",\"BloodPressure\",\"BMI\",\"DiabetesPedigreeFunction\",\"Age\"], inplace=True)\r\n",
        "df.info(verbose=True)\r\n",
        "scaler = StandardScaler()\r\n",
        "df.iloc[:,:-1] = scaler.fit_transform(df.iloc[:,:-1])"
      ],
      "execution_count": 96,
      "outputs": [
        {
          "output_type": "stream",
          "text": [
            "<class 'pandas.core.frame.DataFrame'>\n",
            "Int64Index: 656 entries, 0 to 767\n",
            "Data columns (total 9 columns):\n",
            " #   Column                    Non-Null Count  Dtype  \n",
            "---  ------                    --------------  -----  \n",
            " 0   Pregnancies               656 non-null    int64  \n",
            " 1   Glucose                   656 non-null    int64  \n",
            " 2   BloodPressure             656 non-null    float64\n",
            " 3   SkinThickness             656 non-null    int64  \n",
            " 4   Insulin                   656 non-null    float64\n",
            " 5   BMI                       656 non-null    float64\n",
            " 6   DiabetesPedigreeFunction  656 non-null    float64\n",
            " 7   Age                       656 non-null    int64  \n",
            " 8   Outcome                   656 non-null    int64  \n",
            "dtypes: float64(4), int64(5)\n",
            "memory usage: 51.2 KB\n"
          ],
          "name": "stdout"
        }
      ]
    },
    {
      "cell_type": "code",
      "metadata": {
        "id": "M6L7xI7lFEZH"
      },
      "source": [
        "class KNN() :  \r\n",
        "    def __init__( self, K ) :\r\n",
        "        self.K = K \r\n",
        "    # Function to store training set \r\n",
        "    def fit( self, X_train, Y_train ) : \r\n",
        "        self.X_train = X_train\r\n",
        "        self.Y_train = Y_train \r\n",
        "          \r\n",
        "        # no_of_training_examples, no_of_features \r\n",
        "        self.m, self.n = X_train.shape \r\n",
        "      \r\n",
        "    # Function for prediction \r\n",
        "    def predict( self, X_test ) : \r\n",
        "        self.X_test = X_test \r\n",
        "          \r\n",
        "        # no_of_test_examples, no_of_features       \r\n",
        "        self.m_test, self.n = X_test.shape \r\n",
        "    \r\n",
        "        # initialize Y_predict \r\n",
        "        Y_predict = np.zeros( self.m_test ) \r\n",
        "        for i in range( self.m_test ) : \r\n",
        "            x = self.X_test[i] \r\n",
        "              \r\n",
        "            # find the K nearest neighbors from current test example \r\n",
        "            neighbors = np.zeros( self.K ) \r\n",
        "            neighbors = self.find_neighbors( x ) \r\n",
        "              \r\n",
        "            # most frequent class in K neighbors \r\n",
        "            Y_predict[i] = mode( neighbors )[0][0]    \r\n",
        "        return Y_predict \r\n",
        "      \r\n",
        "    # Function to find the K nearest neighbors to current test example \r\n",
        "    def find_neighbors( self, x ) : \r\n",
        "        # calculate all the euclidean distances between current  \r\n",
        "        # test example x and training set X_train \r\n",
        "        euclidean_distances = np.zeros( self.m ) \r\n",
        "        for i in range( self.m ) : \r\n",
        "            d = self.euclidean( x, self.X_train[i] ) \r\n",
        "            euclidean_distances[i] = d \r\n",
        "          \r\n",
        "        # sort Y_train according to euclidean_distance_array and  \r\n",
        "        # store into Y_train_sorted \r\n",
        "        inds = euclidean_distances.argsort() \r\n",
        "        Y_train_sorted = self.Y_train[inds] \r\n",
        "        return Y_train_sorted[:self.K] \r\n",
        "      \r\n",
        "    # Function to calculate euclidean distance \r\n",
        "    def euclidean( self, x, x_train ) : \r\n",
        "        return np.sqrt( np.sum( np.square( x - x_train ) ) ) \r\n",
        "  \r\n",
        "# Driver code \r\n",
        "def main() : \r\n",
        "    # Importing dataset \r\n",
        "    X = df.iloc[:,:-1].values \r\n",
        "    Y = df.iloc[:,-1:].values \r\n",
        "      \r\n",
        "    # Splitting dataset into train and test set \r\n",
        "    X_train, X_test, Y_train, Y_test = train_test_split(  X, Y, test_size = 1/3, random_state = 0 ) \r\n",
        "      \r\n",
        "    # Model training \r\n",
        "    model = KNN( K = 3 ) \r\n",
        "    model.fit( X_train, Y_train ) \r\n",
        "    model1 = KNeighborsClassifier( n_neighbors = 3 ) \r\n",
        "    model1.fit( X_train, Y_train ) \r\n",
        "      \r\n",
        "    # Prediction on test set \r\n",
        "    Y_pred = model.predict( X_test ) \r\n",
        "    Y_pred1 = model1.predict( X_test ) \r\n",
        "      \r\n",
        "    # measure performance \r\n",
        "    correctly_classified = 0\r\n",
        "    correctly_classified1 = 0\r\n",
        "      \r\n",
        "    # counter \r\n",
        "    count = 0\r\n",
        "    for count in range( np.size( Y_pred ) ) : \r\n",
        "        if Y_test[count] == Y_pred[count] : \r\n",
        "            correctly_classified = correctly_classified + 1\r\n",
        "        if Y_test[count] == Y_pred1[count] : \r\n",
        "            correctly_classified1 = correctly_classified1 + 1\r\n",
        "        count = count + 1\r\n",
        "    print( \"Accuracy on test set by sklearn model   :  \", (  \r\n",
        "      correctly_classified1 / count ) * 100 )"
      ],
      "execution_count": 97,
      "outputs": []
    },
    {
      "cell_type": "code",
      "metadata": {
        "colab": {
          "base_uri": "https://localhost:8080/"
        },
        "id": "v6cTxs_cF8Hi",
        "outputId": "4bd57148-296a-4126-d8d6-91abd68b91dc"
      },
      "source": [
        "if __name__ == \"__main__\" :  \r\n",
        "    main()"
      ],
      "execution_count": 98,
      "outputs": [
        {
          "output_type": "stream",
          "text": [
            "/usr/local/lib/python3.7/dist-packages/ipykernel_launcher.py:64: DataConversionWarning: A column-vector y was passed when a 1d array was expected. Please change the shape of y to (n_samples, ), for example using ravel().\n"
          ],
          "name": "stderr"
        },
        {
          "output_type": "stream",
          "text": [
            "Accuracy on test set by sklearn model   :   75.34246575342466\n"
          ],
          "name": "stdout"
        }
      ]
    }
  ]
}